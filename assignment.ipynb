{
 "cells": [
  {
   "cell_type": "code",
   "execution_count": 346,
   "id": "0d741518",
   "metadata": {},
   "outputs": [],
   "source": [
    "import pandas as pd"
   ]
  },
  {
   "cell_type": "code",
   "execution_count": 347,
   "id": "c83c11c3",
   "metadata": {},
   "outputs": [],
   "source": [
    "df=pd.read_csv('Datasets/assignment1.csv')"
   ]
  },
  {
   "cell_type": "code",
   "execution_count": 348,
   "id": "3c1dc406",
   "metadata": {},
   "outputs": [
    {
     "data": {
      "text/html": [
       "<div>\n",
       "<style scoped>\n",
       "    .dataframe tbody tr th:only-of-type {\n",
       "        vertical-align: middle;\n",
       "    }\n",
       "\n",
       "    .dataframe tbody tr th {\n",
       "        vertical-align: top;\n",
       "    }\n",
       "\n",
       "    .dataframe thead th {\n",
       "        text-align: right;\n",
       "    }\n",
       "</style>\n",
       "<table border=\"1\" class=\"dataframe\">\n",
       "  <thead>\n",
       "    <tr style=\"text-align: right;\">\n",
       "      <th></th>\n",
       "      <th>Loan_ID</th>\n",
       "      <th>Gender</th>\n",
       "      <th>Married</th>\n",
       "      <th>Dependents</th>\n",
       "      <th>Education</th>\n",
       "      <th>Self_Employed</th>\n",
       "      <th>ApplicantIncome</th>\n",
       "      <th>CoapplicantIncome</th>\n",
       "      <th>LoanAmount</th>\n",
       "      <th>Loan_Amount_Term</th>\n",
       "      <th>Credit_History</th>\n",
       "      <th>Property_Area</th>\n",
       "      <th>Loan_Status</th>\n",
       "    </tr>\n",
       "  </thead>\n",
       "  <tbody>\n",
       "    <tr>\n",
       "      <th>0</th>\n",
       "      <td>LP001002</td>\n",
       "      <td>Male</td>\n",
       "      <td>No</td>\n",
       "      <td>0</td>\n",
       "      <td>Graduate</td>\n",
       "      <td>No</td>\n",
       "      <td>5849</td>\n",
       "      <td>0.0</td>\n",
       "      <td>NaN</td>\n",
       "      <td>360.0</td>\n",
       "      <td>1.0</td>\n",
       "      <td>Urban</td>\n",
       "      <td>Y</td>\n",
       "    </tr>\n",
       "    <tr>\n",
       "      <th>1</th>\n",
       "      <td>LP001003</td>\n",
       "      <td>Male</td>\n",
       "      <td>Yes</td>\n",
       "      <td>1</td>\n",
       "      <td>Graduate</td>\n",
       "      <td>No</td>\n",
       "      <td>4583</td>\n",
       "      <td>1508.0</td>\n",
       "      <td>128.0</td>\n",
       "      <td>360.0</td>\n",
       "      <td>1.0</td>\n",
       "      <td>Rural</td>\n",
       "      <td>N</td>\n",
       "    </tr>\n",
       "    <tr>\n",
       "      <th>2</th>\n",
       "      <td>LP001005</td>\n",
       "      <td>Male</td>\n",
       "      <td>Yes</td>\n",
       "      <td>0</td>\n",
       "      <td>Graduate</td>\n",
       "      <td>Yes</td>\n",
       "      <td>3000</td>\n",
       "      <td>0.0</td>\n",
       "      <td>66.0</td>\n",
       "      <td>360.0</td>\n",
       "      <td>1.0</td>\n",
       "      <td>Urban</td>\n",
       "      <td>Y</td>\n",
       "    </tr>\n",
       "    <tr>\n",
       "      <th>3</th>\n",
       "      <td>LP001006</td>\n",
       "      <td>Male</td>\n",
       "      <td>Yes</td>\n",
       "      <td>0</td>\n",
       "      <td>Not Graduate</td>\n",
       "      <td>No</td>\n",
       "      <td>2583</td>\n",
       "      <td>2358.0</td>\n",
       "      <td>120.0</td>\n",
       "      <td>360.0</td>\n",
       "      <td>1.0</td>\n",
       "      <td>Urban</td>\n",
       "      <td>Y</td>\n",
       "    </tr>\n",
       "    <tr>\n",
       "      <th>4</th>\n",
       "      <td>LP001008</td>\n",
       "      <td>Male</td>\n",
       "      <td>No</td>\n",
       "      <td>0</td>\n",
       "      <td>Graduate</td>\n",
       "      <td>No</td>\n",
       "      <td>6000</td>\n",
       "      <td>0.0</td>\n",
       "      <td>141.0</td>\n",
       "      <td>360.0</td>\n",
       "      <td>1.0</td>\n",
       "      <td>Urban</td>\n",
       "      <td>Y</td>\n",
       "    </tr>\n",
       "  </tbody>\n",
       "</table>\n",
       "</div>"
      ],
      "text/plain": [
       "    Loan_ID Gender Married Dependents     Education Self_Employed  \\\n",
       "0  LP001002   Male      No          0      Graduate            No   \n",
       "1  LP001003   Male     Yes          1      Graduate            No   \n",
       "2  LP001005   Male     Yes          0      Graduate           Yes   \n",
       "3  LP001006   Male     Yes          0  Not Graduate            No   \n",
       "4  LP001008   Male      No          0      Graduate            No   \n",
       "\n",
       "   ApplicantIncome  CoapplicantIncome  LoanAmount  Loan_Amount_Term  \\\n",
       "0             5849                0.0         NaN             360.0   \n",
       "1             4583             1508.0       128.0             360.0   \n",
       "2             3000                0.0        66.0             360.0   \n",
       "3             2583             2358.0       120.0             360.0   \n",
       "4             6000                0.0       141.0             360.0   \n",
       "\n",
       "   Credit_History Property_Area Loan_Status  \n",
       "0             1.0         Urban           Y  \n",
       "1             1.0         Rural           N  \n",
       "2             1.0         Urban           Y  \n",
       "3             1.0         Urban           Y  \n",
       "4             1.0         Urban           Y  "
      ]
     },
     "execution_count": 348,
     "metadata": {},
     "output_type": "execute_result"
    }
   ],
   "source": [
    "df.head()"
   ]
  },
  {
   "cell_type": "code",
   "execution_count": 349,
   "id": "f253d86f",
   "metadata": {},
   "outputs": [
    {
     "data": {
      "text/plain": [
       "(614, 13)"
      ]
     },
     "execution_count": 349,
     "metadata": {},
     "output_type": "execute_result"
    }
   ],
   "source": [
    "df.shape"
   ]
  },
  {
   "cell_type": "code",
   "execution_count": 350,
   "id": "e58f6993",
   "metadata": {},
   "outputs": [
    {
     "name": "stdout",
     "output_type": "stream",
     "text": [
      "<class 'pandas.core.frame.DataFrame'>\n",
      "RangeIndex: 614 entries, 0 to 613\n",
      "Data columns (total 13 columns):\n",
      " #   Column             Non-Null Count  Dtype  \n",
      "---  ------             --------------  -----  \n",
      " 0   Loan_ID            614 non-null    object \n",
      " 1   Gender             601 non-null    object \n",
      " 2   Married            611 non-null    object \n",
      " 3   Dependents         599 non-null    object \n",
      " 4   Education          614 non-null    object \n",
      " 5   Self_Employed      582 non-null    object \n",
      " 6   ApplicantIncome    614 non-null    int64  \n",
      " 7   CoapplicantIncome  614 non-null    float64\n",
      " 8   LoanAmount         592 non-null    float64\n",
      " 9   Loan_Amount_Term   600 non-null    float64\n",
      " 10  Credit_History     564 non-null    float64\n",
      " 11  Property_Area      614 non-null    object \n",
      " 12  Loan_Status        614 non-null    object \n",
      "dtypes: float64(4), int64(1), object(8)\n",
      "memory usage: 62.5+ KB\n"
     ]
    }
   ],
   "source": [
    "df.info()"
   ]
  },
  {
   "cell_type": "code",
   "execution_count": 351,
   "id": "da2790c9",
   "metadata": {},
   "outputs": [
    {
     "data": {
      "text/html": [
       "<div>\n",
       "<style scoped>\n",
       "    .dataframe tbody tr th:only-of-type {\n",
       "        vertical-align: middle;\n",
       "    }\n",
       "\n",
       "    .dataframe tbody tr th {\n",
       "        vertical-align: top;\n",
       "    }\n",
       "\n",
       "    .dataframe thead th {\n",
       "        text-align: right;\n",
       "    }\n",
       "</style>\n",
       "<table border=\"1\" class=\"dataframe\">\n",
       "  <thead>\n",
       "    <tr style=\"text-align: right;\">\n",
       "      <th></th>\n",
       "      <th>ApplicantIncome</th>\n",
       "      <th>CoapplicantIncome</th>\n",
       "      <th>LoanAmount</th>\n",
       "      <th>Loan_Amount_Term</th>\n",
       "      <th>Credit_History</th>\n",
       "    </tr>\n",
       "  </thead>\n",
       "  <tbody>\n",
       "    <tr>\n",
       "      <th>count</th>\n",
       "      <td>614.000000</td>\n",
       "      <td>614.000000</td>\n",
       "      <td>592.000000</td>\n",
       "      <td>600.00000</td>\n",
       "      <td>564.000000</td>\n",
       "    </tr>\n",
       "    <tr>\n",
       "      <th>mean</th>\n",
       "      <td>5403.459283</td>\n",
       "      <td>1621.245798</td>\n",
       "      <td>146.412162</td>\n",
       "      <td>342.00000</td>\n",
       "      <td>0.842199</td>\n",
       "    </tr>\n",
       "    <tr>\n",
       "      <th>std</th>\n",
       "      <td>6109.041673</td>\n",
       "      <td>2926.248369</td>\n",
       "      <td>85.587325</td>\n",
       "      <td>65.12041</td>\n",
       "      <td>0.364878</td>\n",
       "    </tr>\n",
       "    <tr>\n",
       "      <th>min</th>\n",
       "      <td>150.000000</td>\n",
       "      <td>0.000000</td>\n",
       "      <td>9.000000</td>\n",
       "      <td>12.00000</td>\n",
       "      <td>0.000000</td>\n",
       "    </tr>\n",
       "    <tr>\n",
       "      <th>25%</th>\n",
       "      <td>2877.500000</td>\n",
       "      <td>0.000000</td>\n",
       "      <td>100.000000</td>\n",
       "      <td>360.00000</td>\n",
       "      <td>1.000000</td>\n",
       "    </tr>\n",
       "    <tr>\n",
       "      <th>50%</th>\n",
       "      <td>3812.500000</td>\n",
       "      <td>1188.500000</td>\n",
       "      <td>128.000000</td>\n",
       "      <td>360.00000</td>\n",
       "      <td>1.000000</td>\n",
       "    </tr>\n",
       "    <tr>\n",
       "      <th>75%</th>\n",
       "      <td>5795.000000</td>\n",
       "      <td>2297.250000</td>\n",
       "      <td>168.000000</td>\n",
       "      <td>360.00000</td>\n",
       "      <td>1.000000</td>\n",
       "    </tr>\n",
       "    <tr>\n",
       "      <th>max</th>\n",
       "      <td>81000.000000</td>\n",
       "      <td>41667.000000</td>\n",
       "      <td>700.000000</td>\n",
       "      <td>480.00000</td>\n",
       "      <td>1.000000</td>\n",
       "    </tr>\n",
       "  </tbody>\n",
       "</table>\n",
       "</div>"
      ],
      "text/plain": [
       "       ApplicantIncome  CoapplicantIncome  LoanAmount  Loan_Amount_Term  \\\n",
       "count       614.000000         614.000000  592.000000         600.00000   \n",
       "mean       5403.459283        1621.245798  146.412162         342.00000   \n",
       "std        6109.041673        2926.248369   85.587325          65.12041   \n",
       "min         150.000000           0.000000    9.000000          12.00000   \n",
       "25%        2877.500000           0.000000  100.000000         360.00000   \n",
       "50%        3812.500000        1188.500000  128.000000         360.00000   \n",
       "75%        5795.000000        2297.250000  168.000000         360.00000   \n",
       "max       81000.000000       41667.000000  700.000000         480.00000   \n",
       "\n",
       "       Credit_History  \n",
       "count      564.000000  \n",
       "mean         0.842199  \n",
       "std          0.364878  \n",
       "min          0.000000  \n",
       "25%          1.000000  \n",
       "50%          1.000000  \n",
       "75%          1.000000  \n",
       "max          1.000000  "
      ]
     },
     "execution_count": 351,
     "metadata": {},
     "output_type": "execute_result"
    }
   ],
   "source": [
    "df.describe()"
   ]
  },
  {
   "cell_type": "code",
   "execution_count": 352,
   "id": "087be04b",
   "metadata": {},
   "outputs": [
    {
     "data": {
      "text/plain": [
       "Loan_ID               0\n",
       "Gender               13\n",
       "Married               3\n",
       "Dependents           15\n",
       "Education             0\n",
       "Self_Employed        32\n",
       "ApplicantIncome       0\n",
       "CoapplicantIncome     0\n",
       "LoanAmount           22\n",
       "Loan_Amount_Term     14\n",
       "Credit_History       50\n",
       "Property_Area         0\n",
       "Loan_Status           0\n",
       "dtype: int64"
      ]
     },
     "execution_count": 352,
     "metadata": {},
     "output_type": "execute_result"
    }
   ],
   "source": [
    "df.isnull().sum()"
   ]
  },
  {
   "cell_type": "code",
   "execution_count": 353,
   "id": "2082df01",
   "metadata": {},
   "outputs": [
    {
     "data": {
      "text/plain": [
       "Loan_ID              0.000000\n",
       "Gender               0.021173\n",
       "Married              0.004886\n",
       "Dependents           0.024430\n",
       "Education            0.000000\n",
       "Self_Employed        0.052117\n",
       "ApplicantIncome      0.000000\n",
       "CoapplicantIncome    0.000000\n",
       "LoanAmount           0.035831\n",
       "Loan_Amount_Term     0.022801\n",
       "Credit_History       0.081433\n",
       "Property_Area        0.000000\n",
       "Loan_Status          0.000000\n",
       "dtype: float64"
      ]
     },
     "execution_count": 353,
     "metadata": {},
     "output_type": "execute_result"
    }
   ],
   "source": [
    "df.isnull().mean()"
   ]
  },
  {
   "cell_type": "code",
   "execution_count": 354,
   "id": "9bea73b6",
   "metadata": {},
   "outputs": [
    {
     "data": {
      "text/plain": [
       "Loan_ID               0\n",
       "Gender               13\n",
       "Married               3\n",
       "Dependents           15\n",
       "Education             0\n",
       "Self_Employed        32\n",
       "ApplicantIncome       0\n",
       "CoapplicantIncome     0\n",
       "LoanAmount           22\n",
       "Loan_Amount_Term     14\n",
       "Credit_History       50\n",
       "Property_Area         0\n",
       "Loan_Status           0\n",
       "dtype: int64"
      ]
     },
     "execution_count": 354,
     "metadata": {},
     "output_type": "execute_result"
    }
   ],
   "source": [
    "df.isnull().sum()"
   ]
  },
  {
   "cell_type": "code",
   "execution_count": 355,
   "id": "be640361",
   "metadata": {},
   "outputs": [
    {
     "data": {
      "text/plain": [
       "array([ 1.,  0., nan])"
      ]
     },
     "execution_count": 355,
     "metadata": {},
     "output_type": "execute_result"
    }
   ],
   "source": [
    "df['Credit_History'].unique()"
   ]
  },
  {
   "cell_type": "code",
   "execution_count": 356,
   "id": "60a3e318",
   "metadata": {},
   "outputs": [
    {
     "data": {
      "text/html": [
       "<div>\n",
       "<style scoped>\n",
       "    .dataframe tbody tr th:only-of-type {\n",
       "        vertical-align: middle;\n",
       "    }\n",
       "\n",
       "    .dataframe tbody tr th {\n",
       "        vertical-align: top;\n",
       "    }\n",
       "\n",
       "    .dataframe thead th {\n",
       "        text-align: right;\n",
       "    }\n",
       "</style>\n",
       "<table border=\"1\" class=\"dataframe\">\n",
       "  <thead>\n",
       "    <tr style=\"text-align: right;\">\n",
       "      <th></th>\n",
       "      <th>Loan_ID</th>\n",
       "      <th>Gender</th>\n",
       "      <th>Married</th>\n",
       "      <th>Dependents</th>\n",
       "      <th>Education</th>\n",
       "      <th>Self_Employed</th>\n",
       "      <th>ApplicantIncome</th>\n",
       "      <th>CoapplicantIncome</th>\n",
       "      <th>LoanAmount</th>\n",
       "      <th>Loan_Amount_Term</th>\n",
       "      <th>Credit_History</th>\n",
       "      <th>Property_Area</th>\n",
       "      <th>Loan_Status</th>\n",
       "    </tr>\n",
       "  </thead>\n",
       "  <tbody>\n",
       "    <tr>\n",
       "      <th>0</th>\n",
       "      <td>LP001002</td>\n",
       "      <td>Male</td>\n",
       "      <td>No</td>\n",
       "      <td>0</td>\n",
       "      <td>Graduate</td>\n",
       "      <td>No</td>\n",
       "      <td>5849</td>\n",
       "      <td>0.0</td>\n",
       "      <td>NaN</td>\n",
       "      <td>360.0</td>\n",
       "      <td>1.0</td>\n",
       "      <td>Urban</td>\n",
       "      <td>Y</td>\n",
       "    </tr>\n",
       "    <tr>\n",
       "      <th>1</th>\n",
       "      <td>LP001003</td>\n",
       "      <td>Male</td>\n",
       "      <td>Yes</td>\n",
       "      <td>1</td>\n",
       "      <td>Graduate</td>\n",
       "      <td>No</td>\n",
       "      <td>4583</td>\n",
       "      <td>1508.0</td>\n",
       "      <td>128.0</td>\n",
       "      <td>360.0</td>\n",
       "      <td>1.0</td>\n",
       "      <td>Rural</td>\n",
       "      <td>N</td>\n",
       "    </tr>\n",
       "    <tr>\n",
       "      <th>2</th>\n",
       "      <td>LP001005</td>\n",
       "      <td>Male</td>\n",
       "      <td>Yes</td>\n",
       "      <td>0</td>\n",
       "      <td>Graduate</td>\n",
       "      <td>Yes</td>\n",
       "      <td>3000</td>\n",
       "      <td>0.0</td>\n",
       "      <td>66.0</td>\n",
       "      <td>360.0</td>\n",
       "      <td>1.0</td>\n",
       "      <td>Urban</td>\n",
       "      <td>Y</td>\n",
       "    </tr>\n",
       "    <tr>\n",
       "      <th>3</th>\n",
       "      <td>LP001006</td>\n",
       "      <td>Male</td>\n",
       "      <td>Yes</td>\n",
       "      <td>0</td>\n",
       "      <td>Not Graduate</td>\n",
       "      <td>No</td>\n",
       "      <td>2583</td>\n",
       "      <td>2358.0</td>\n",
       "      <td>120.0</td>\n",
       "      <td>360.0</td>\n",
       "      <td>1.0</td>\n",
       "      <td>Urban</td>\n",
       "      <td>Y</td>\n",
       "    </tr>\n",
       "    <tr>\n",
       "      <th>4</th>\n",
       "      <td>LP001008</td>\n",
       "      <td>Male</td>\n",
       "      <td>No</td>\n",
       "      <td>0</td>\n",
       "      <td>Graduate</td>\n",
       "      <td>No</td>\n",
       "      <td>6000</td>\n",
       "      <td>0.0</td>\n",
       "      <td>141.0</td>\n",
       "      <td>360.0</td>\n",
       "      <td>1.0</td>\n",
       "      <td>Urban</td>\n",
       "      <td>Y</td>\n",
       "    </tr>\n",
       "  </tbody>\n",
       "</table>\n",
       "</div>"
      ],
      "text/plain": [
       "    Loan_ID Gender Married Dependents     Education Self_Employed  \\\n",
       "0  LP001002   Male      No          0      Graduate            No   \n",
       "1  LP001003   Male     Yes          1      Graduate            No   \n",
       "2  LP001005   Male     Yes          0      Graduate           Yes   \n",
       "3  LP001006   Male     Yes          0  Not Graduate            No   \n",
       "4  LP001008   Male      No          0      Graduate            No   \n",
       "\n",
       "   ApplicantIncome  CoapplicantIncome  LoanAmount  Loan_Amount_Term  \\\n",
       "0             5849                0.0         NaN             360.0   \n",
       "1             4583             1508.0       128.0             360.0   \n",
       "2             3000                0.0        66.0             360.0   \n",
       "3             2583             2358.0       120.0             360.0   \n",
       "4             6000                0.0       141.0             360.0   \n",
       "\n",
       "   Credit_History Property_Area Loan_Status  \n",
       "0             1.0         Urban           Y  \n",
       "1             1.0         Rural           N  \n",
       "2             1.0         Urban           Y  \n",
       "3             1.0         Urban           Y  \n",
       "4             1.0         Urban           Y  "
      ]
     },
     "execution_count": 356,
     "metadata": {},
     "output_type": "execute_result"
    }
   ],
   "source": [
    "# dataset=df[df.columns[df.isnull().mean()<0.07]]\n",
    "\n",
    "dataset = df\n",
    "dataset['Credit_History'] = dataset['Credit_History'].fillna(dataset['Credit_History'].median())\n",
    "\n",
    "dataset.head()"
   ]
  },
  {
   "cell_type": "code",
   "execution_count": 357,
   "id": "e71849b4",
   "metadata": {},
   "outputs": [
    {
     "data": {
      "text/plain": [
       "array([1., 0.])"
      ]
     },
     "execution_count": 357,
     "metadata": {},
     "output_type": "execute_result"
    }
   ],
   "source": [
    "dataset['Credit_History'].unique()"
   ]
  },
  {
   "cell_type": "code",
   "execution_count": 358,
   "id": "2420f936",
   "metadata": {},
   "outputs": [
    {
     "data": {
      "text/plain": [
       "Index(['Loan_ID', 'Gender', 'Married', 'Dependents', 'Education',\n",
       "       'Self_Employed', 'ApplicantIncome', 'CoapplicantIncome', 'LoanAmount',\n",
       "       'Loan_Amount_Term', 'Credit_History', 'Property_Area', 'Loan_Status'],\n",
       "      dtype='object')"
      ]
     },
     "execution_count": 358,
     "metadata": {},
     "output_type": "execute_result"
    }
   ],
   "source": [
    "dataset.columns"
   ]
  },
  {
   "cell_type": "code",
   "execution_count": 359,
   "id": "8a9e8fb6",
   "metadata": {},
   "outputs": [
    {
     "data": {
      "text/html": [
       "<div>\n",
       "<style scoped>\n",
       "    .dataframe tbody tr th:only-of-type {\n",
       "        vertical-align: middle;\n",
       "    }\n",
       "\n",
       "    .dataframe tbody tr th {\n",
       "        vertical-align: top;\n",
       "    }\n",
       "\n",
       "    .dataframe thead th {\n",
       "        text-align: right;\n",
       "    }\n",
       "</style>\n",
       "<table border=\"1\" class=\"dataframe\">\n",
       "  <thead>\n",
       "    <tr style=\"text-align: right;\">\n",
       "      <th></th>\n",
       "      <th>Loan_ID</th>\n",
       "      <th>Gender</th>\n",
       "      <th>Married</th>\n",
       "      <th>Dependents</th>\n",
       "      <th>Education</th>\n",
       "      <th>Self_Employed</th>\n",
       "      <th>ApplicantIncome</th>\n",
       "      <th>CoapplicantIncome</th>\n",
       "      <th>LoanAmount</th>\n",
       "      <th>Loan_Amount_Term</th>\n",
       "      <th>Credit_History</th>\n",
       "      <th>Property_Area</th>\n",
       "      <th>Loan_Status</th>\n",
       "    </tr>\n",
       "  </thead>\n",
       "  <tbody>\n",
       "    <tr>\n",
       "      <th>0</th>\n",
       "      <td>LP001002</td>\n",
       "      <td>Male</td>\n",
       "      <td>No</td>\n",
       "      <td>0</td>\n",
       "      <td>Graduate</td>\n",
       "      <td>No</td>\n",
       "      <td>5849</td>\n",
       "      <td>0.0</td>\n",
       "      <td>128.0</td>\n",
       "      <td>360.0</td>\n",
       "      <td>1.0</td>\n",
       "      <td>Urban</td>\n",
       "      <td>Y</td>\n",
       "    </tr>\n",
       "    <tr>\n",
       "      <th>1</th>\n",
       "      <td>LP001003</td>\n",
       "      <td>Male</td>\n",
       "      <td>Yes</td>\n",
       "      <td>1</td>\n",
       "      <td>Graduate</td>\n",
       "      <td>No</td>\n",
       "      <td>4583</td>\n",
       "      <td>1508.0</td>\n",
       "      <td>128.0</td>\n",
       "      <td>360.0</td>\n",
       "      <td>1.0</td>\n",
       "      <td>Rural</td>\n",
       "      <td>N</td>\n",
       "    </tr>\n",
       "    <tr>\n",
       "      <th>2</th>\n",
       "      <td>LP001005</td>\n",
       "      <td>Male</td>\n",
       "      <td>Yes</td>\n",
       "      <td>0</td>\n",
       "      <td>Graduate</td>\n",
       "      <td>Yes</td>\n",
       "      <td>3000</td>\n",
       "      <td>0.0</td>\n",
       "      <td>66.0</td>\n",
       "      <td>360.0</td>\n",
       "      <td>1.0</td>\n",
       "      <td>Urban</td>\n",
       "      <td>Y</td>\n",
       "    </tr>\n",
       "    <tr>\n",
       "      <th>3</th>\n",
       "      <td>LP001006</td>\n",
       "      <td>Male</td>\n",
       "      <td>Yes</td>\n",
       "      <td>0</td>\n",
       "      <td>Not Graduate</td>\n",
       "      <td>No</td>\n",
       "      <td>2583</td>\n",
       "      <td>2358.0</td>\n",
       "      <td>120.0</td>\n",
       "      <td>360.0</td>\n",
       "      <td>1.0</td>\n",
       "      <td>Urban</td>\n",
       "      <td>Y</td>\n",
       "    </tr>\n",
       "    <tr>\n",
       "      <th>4</th>\n",
       "      <td>LP001008</td>\n",
       "      <td>Male</td>\n",
       "      <td>No</td>\n",
       "      <td>0</td>\n",
       "      <td>Graduate</td>\n",
       "      <td>No</td>\n",
       "      <td>6000</td>\n",
       "      <td>0.0</td>\n",
       "      <td>141.0</td>\n",
       "      <td>360.0</td>\n",
       "      <td>1.0</td>\n",
       "      <td>Urban</td>\n",
       "      <td>Y</td>\n",
       "    </tr>\n",
       "  </tbody>\n",
       "</table>\n",
       "</div>"
      ],
      "text/plain": [
       "    Loan_ID Gender Married Dependents     Education Self_Employed  \\\n",
       "0  LP001002   Male      No          0      Graduate            No   \n",
       "1  LP001003   Male     Yes          1      Graduate            No   \n",
       "2  LP001005   Male     Yes          0      Graduate           Yes   \n",
       "3  LP001006   Male     Yes          0  Not Graduate            No   \n",
       "4  LP001008   Male      No          0      Graduate            No   \n",
       "\n",
       "   ApplicantIncome  CoapplicantIncome  LoanAmount  Loan_Amount_Term  \\\n",
       "0             5849                0.0       128.0             360.0   \n",
       "1             4583             1508.0       128.0             360.0   \n",
       "2             3000                0.0        66.0             360.0   \n",
       "3             2583             2358.0       120.0             360.0   \n",
       "4             6000                0.0       141.0             360.0   \n",
       "\n",
       "   Credit_History Property_Area Loan_Status  \n",
       "0             1.0         Urban           Y  \n",
       "1             1.0         Rural           N  \n",
       "2             1.0         Urban           Y  \n",
       "3             1.0         Urban           Y  \n",
       "4             1.0         Urban           Y  "
      ]
     },
     "execution_count": 359,
     "metadata": {},
     "output_type": "execute_result"
    }
   ],
   "source": [
    "dataset['LoanAmount'] = dataset['LoanAmount'].fillna(dataset['LoanAmount'].median())\n",
    "\n",
    "dataset.head()"
   ]
  },
  {
   "cell_type": "code",
   "execution_count": 360,
   "id": "67a7f0af",
   "metadata": {},
   "outputs": [
    {
     "data": {
      "text/plain": [
       "Loan_ID               0\n",
       "Gender               13\n",
       "Married               3\n",
       "Dependents           15\n",
       "Education             0\n",
       "Self_Employed        32\n",
       "ApplicantIncome       0\n",
       "CoapplicantIncome     0\n",
       "LoanAmount            0\n",
       "Loan_Amount_Term     14\n",
       "Credit_History        0\n",
       "Property_Area         0\n",
       "Loan_Status           0\n",
       "dtype: int64"
      ]
     },
     "execution_count": 360,
     "metadata": {},
     "output_type": "execute_result"
    }
   ],
   "source": [
    "dataset.isnull().sum()"
   ]
  },
  {
   "cell_type": "code",
   "execution_count": 361,
   "id": "41548f65",
   "metadata": {},
   "outputs": [
    {
     "data": {
      "text/plain": [
       "Loan_ID              0.000000\n",
       "Gender               0.021173\n",
       "Married              0.004886\n",
       "Dependents           0.024430\n",
       "Education            0.000000\n",
       "Self_Employed        0.052117\n",
       "ApplicantIncome      0.000000\n",
       "CoapplicantIncome    0.000000\n",
       "LoanAmount           0.000000\n",
       "Loan_Amount_Term     0.022801\n",
       "Credit_History       0.000000\n",
       "Property_Area        0.000000\n",
       "Loan_Status          0.000000\n",
       "dtype: float64"
      ]
     },
     "execution_count": 361,
     "metadata": {},
     "output_type": "execute_result"
    }
   ],
   "source": [
    "dataset.isnull().mean()"
   ]
  },
  {
   "cell_type": "code",
   "execution_count": 362,
   "id": "d8767b1f",
   "metadata": {},
   "outputs": [
    {
     "data": {
      "text/plain": [
       "0    No\n",
       "Name: Self_Employed, dtype: object"
      ]
     },
     "execution_count": 362,
     "metadata": {},
     "output_type": "execute_result"
    }
   ],
   "source": [
    "dataset['Self_Employed'].mode()"
   ]
  },
  {
   "cell_type": "code",
   "execution_count": 363,
   "id": "69cab7cb",
   "metadata": {},
   "outputs": [],
   "source": [
    "dataset['Self_Employed'] = dataset['Self_Employed'].fillna(dataset['Self_Employed'].mode()[0])"
   ]
  },
  {
   "cell_type": "code",
   "execution_count": 364,
   "id": "c3b412b6",
   "metadata": {},
   "outputs": [
    {
     "data": {
      "text/plain": [
       "Loan_ID              0.000000\n",
       "Gender               0.021173\n",
       "Married              0.004886\n",
       "Dependents           0.024430\n",
       "Education            0.000000\n",
       "Self_Employed        0.000000\n",
       "ApplicantIncome      0.000000\n",
       "CoapplicantIncome    0.000000\n",
       "LoanAmount           0.000000\n",
       "Loan_Amount_Term     0.022801\n",
       "Credit_History       0.000000\n",
       "Property_Area        0.000000\n",
       "Loan_Status          0.000000\n",
       "dtype: float64"
      ]
     },
     "execution_count": 364,
     "metadata": {},
     "output_type": "execute_result"
    }
   ],
   "source": [
    "dataset.isnull().mean()"
   ]
  },
  {
   "cell_type": "code",
   "execution_count": 365,
   "id": "1ab2c64e",
   "metadata": {},
   "outputs": [
    {
     "data": {
      "text/html": [
       "<div>\n",
       "<style scoped>\n",
       "    .dataframe tbody tr th:only-of-type {\n",
       "        vertical-align: middle;\n",
       "    }\n",
       "\n",
       "    .dataframe tbody tr th {\n",
       "        vertical-align: top;\n",
       "    }\n",
       "\n",
       "    .dataframe thead th {\n",
       "        text-align: right;\n",
       "    }\n",
       "</style>\n",
       "<table border=\"1\" class=\"dataframe\">\n",
       "  <thead>\n",
       "    <tr style=\"text-align: right;\">\n",
       "      <th></th>\n",
       "      <th>Loan_ID</th>\n",
       "      <th>Gender</th>\n",
       "      <th>Married</th>\n",
       "      <th>Dependents</th>\n",
       "      <th>Education</th>\n",
       "      <th>Self_Employed</th>\n",
       "      <th>ApplicantIncome</th>\n",
       "      <th>CoapplicantIncome</th>\n",
       "      <th>LoanAmount</th>\n",
       "      <th>Loan_Amount_Term</th>\n",
       "      <th>Credit_History</th>\n",
       "      <th>Property_Area</th>\n",
       "      <th>Loan_Status</th>\n",
       "    </tr>\n",
       "  </thead>\n",
       "  <tbody>\n",
       "    <tr>\n",
       "      <th>0</th>\n",
       "      <td>LP001002</td>\n",
       "      <td>Male</td>\n",
       "      <td>No</td>\n",
       "      <td>0</td>\n",
       "      <td>Graduate</td>\n",
       "      <td>No</td>\n",
       "      <td>5849</td>\n",
       "      <td>0.0</td>\n",
       "      <td>128.0</td>\n",
       "      <td>360.0</td>\n",
       "      <td>1.0</td>\n",
       "      <td>Urban</td>\n",
       "      <td>Y</td>\n",
       "    </tr>\n",
       "    <tr>\n",
       "      <th>1</th>\n",
       "      <td>LP001003</td>\n",
       "      <td>Male</td>\n",
       "      <td>Yes</td>\n",
       "      <td>1</td>\n",
       "      <td>Graduate</td>\n",
       "      <td>No</td>\n",
       "      <td>4583</td>\n",
       "      <td>1508.0</td>\n",
       "      <td>128.0</td>\n",
       "      <td>360.0</td>\n",
       "      <td>1.0</td>\n",
       "      <td>Rural</td>\n",
       "      <td>N</td>\n",
       "    </tr>\n",
       "    <tr>\n",
       "      <th>2</th>\n",
       "      <td>LP001005</td>\n",
       "      <td>Male</td>\n",
       "      <td>Yes</td>\n",
       "      <td>0</td>\n",
       "      <td>Graduate</td>\n",
       "      <td>Yes</td>\n",
       "      <td>3000</td>\n",
       "      <td>0.0</td>\n",
       "      <td>66.0</td>\n",
       "      <td>360.0</td>\n",
       "      <td>1.0</td>\n",
       "      <td>Urban</td>\n",
       "      <td>Y</td>\n",
       "    </tr>\n",
       "    <tr>\n",
       "      <th>3</th>\n",
       "      <td>LP001006</td>\n",
       "      <td>Male</td>\n",
       "      <td>Yes</td>\n",
       "      <td>0</td>\n",
       "      <td>Not Graduate</td>\n",
       "      <td>No</td>\n",
       "      <td>2583</td>\n",
       "      <td>2358.0</td>\n",
       "      <td>120.0</td>\n",
       "      <td>360.0</td>\n",
       "      <td>1.0</td>\n",
       "      <td>Urban</td>\n",
       "      <td>Y</td>\n",
       "    </tr>\n",
       "    <tr>\n",
       "      <th>4</th>\n",
       "      <td>LP001008</td>\n",
       "      <td>Male</td>\n",
       "      <td>No</td>\n",
       "      <td>0</td>\n",
       "      <td>Graduate</td>\n",
       "      <td>No</td>\n",
       "      <td>6000</td>\n",
       "      <td>0.0</td>\n",
       "      <td>141.0</td>\n",
       "      <td>360.0</td>\n",
       "      <td>1.0</td>\n",
       "      <td>Urban</td>\n",
       "      <td>Y</td>\n",
       "    </tr>\n",
       "  </tbody>\n",
       "</table>\n",
       "</div>"
      ],
      "text/plain": [
       "    Loan_ID Gender Married Dependents     Education Self_Employed  \\\n",
       "0  LP001002   Male      No          0      Graduate            No   \n",
       "1  LP001003   Male     Yes          1      Graduate            No   \n",
       "2  LP001005   Male     Yes          0      Graduate           Yes   \n",
       "3  LP001006   Male     Yes          0  Not Graduate            No   \n",
       "4  LP001008   Male      No          0      Graduate            No   \n",
       "\n",
       "   ApplicantIncome  CoapplicantIncome  LoanAmount  Loan_Amount_Term  \\\n",
       "0             5849                0.0       128.0             360.0   \n",
       "1             4583             1508.0       128.0             360.0   \n",
       "2             3000                0.0        66.0             360.0   \n",
       "3             2583             2358.0       120.0             360.0   \n",
       "4             6000                0.0       141.0             360.0   \n",
       "\n",
       "   Credit_History Property_Area Loan_Status  \n",
       "0             1.0         Urban           Y  \n",
       "1             1.0         Rural           N  \n",
       "2             1.0         Urban           Y  \n",
       "3             1.0         Urban           Y  \n",
       "4             1.0         Urban           Y  "
      ]
     },
     "execution_count": 365,
     "metadata": {},
     "output_type": "execute_result"
    }
   ],
   "source": [
    "dataset.head()"
   ]
  },
  {
   "cell_type": "code",
   "execution_count": 366,
   "id": "9fefde4b",
   "metadata": {},
   "outputs": [],
   "source": [
    "\n",
    "dataset['Loan_Amount_Term'] = dataset['Loan_Amount_Term'].fillna(dataset['Loan_Amount_Term'].mode()[0])"
   ]
  },
  {
   "cell_type": "code",
   "execution_count": 367,
   "id": "cfcbdb9d",
   "metadata": {},
   "outputs": [
    {
     "data": {
      "text/plain": [
       "Loan_ID              0.000000\n",
       "Gender               0.021173\n",
       "Married              0.004886\n",
       "Dependents           0.024430\n",
       "Education            0.000000\n",
       "Self_Employed        0.000000\n",
       "ApplicantIncome      0.000000\n",
       "CoapplicantIncome    0.000000\n",
       "LoanAmount           0.000000\n",
       "Loan_Amount_Term     0.000000\n",
       "Credit_History       0.000000\n",
       "Property_Area        0.000000\n",
       "Loan_Status          0.000000\n",
       "dtype: float64"
      ]
     },
     "execution_count": 367,
     "metadata": {},
     "output_type": "execute_result"
    }
   ],
   "source": [
    "dataset.isnull().mean()"
   ]
  },
  {
   "cell_type": "code",
   "execution_count": 368,
   "id": "8b8f9349",
   "metadata": {},
   "outputs": [],
   "source": [
    "dataset['Dependents'] = dataset['Dependents'].fillna(dataset['Dependents'].mode()[0])"
   ]
  },
  {
   "cell_type": "code",
   "execution_count": 369,
   "id": "93c9f0c0",
   "metadata": {},
   "outputs": [],
   "source": [
    "dataset['Married'] = dataset['Married'].fillna(dataset['Married'].mode()[0])"
   ]
  },
  {
   "cell_type": "code",
   "execution_count": 370,
   "id": "7687c92f",
   "metadata": {},
   "outputs": [],
   "source": [
    "dataset['Gender'] = dataset['Gender'].fillna(dataset['Gender'].mode()[0])"
   ]
  },
  {
   "cell_type": "code",
   "execution_count": 371,
   "id": "fc5fd1de",
   "metadata": {},
   "outputs": [
    {
     "data": {
      "text/plain": [
       "Loan_ID              0\n",
       "Gender               0\n",
       "Married              0\n",
       "Dependents           0\n",
       "Education            0\n",
       "Self_Employed        0\n",
       "ApplicantIncome      0\n",
       "CoapplicantIncome    0\n",
       "LoanAmount           0\n",
       "Loan_Amount_Term     0\n",
       "Credit_History       0\n",
       "Property_Area        0\n",
       "Loan_Status          0\n",
       "dtype: int64"
      ]
     },
     "execution_count": 371,
     "metadata": {},
     "output_type": "execute_result"
    }
   ],
   "source": [
    "dataset.isnull().sum()"
   ]
  },
  {
   "cell_type": "markdown",
   "id": "5ab83053",
   "metadata": {},
   "source": [
    "***null cleared***"
   ]
  },
  {
   "cell_type": "code",
   "execution_count": 372,
   "id": "550d9f10",
   "metadata": {},
   "outputs": [
    {
     "data": {
      "text/plain": [
       "np.int64(0)"
      ]
     },
     "execution_count": 372,
     "metadata": {},
     "output_type": "execute_result"
    }
   ],
   "source": [
    "dataset.duplicated().sum()"
   ]
  },
  {
   "cell_type": "markdown",
   "id": "6eb069d6",
   "metadata": {},
   "source": [
    "***Duplicated Checked***"
   ]
  },
  {
   "cell_type": "code",
   "execution_count": 373,
   "id": "2d58ca5a",
   "metadata": {},
   "outputs": [
    {
     "name": "stdout",
     "output_type": "stream",
     "text": [
      "<class 'pandas.core.frame.DataFrame'>\n",
      "RangeIndex: 614 entries, 0 to 613\n",
      "Data columns (total 13 columns):\n",
      " #   Column             Non-Null Count  Dtype  \n",
      "---  ------             --------------  -----  \n",
      " 0   Loan_ID            614 non-null    object \n",
      " 1   Gender             614 non-null    object \n",
      " 2   Married            614 non-null    object \n",
      " 3   Dependents         614 non-null    object \n",
      " 4   Education          614 non-null    object \n",
      " 5   Self_Employed      614 non-null    object \n",
      " 6   ApplicantIncome    614 non-null    int64  \n",
      " 7   CoapplicantIncome  614 non-null    float64\n",
      " 8   LoanAmount         614 non-null    float64\n",
      " 9   Loan_Amount_Term   614 non-null    float64\n",
      " 10  Credit_History     614 non-null    float64\n",
      " 11  Property_Area      614 non-null    object \n",
      " 12  Loan_Status        614 non-null    object \n",
      "dtypes: float64(4), int64(1), object(8)\n",
      "memory usage: 62.5+ KB\n"
     ]
    }
   ],
   "source": [
    "df.info()"
   ]
  },
  {
   "cell_type": "code",
   "execution_count": 374,
   "id": "096805a3",
   "metadata": {},
   "outputs": [
    {
     "data": {
      "text/plain": [
       "Index(['ApplicantIncome', 'CoapplicantIncome', 'LoanAmount',\n",
       "       'Loan_Amount_Term', 'Credit_History'],\n",
       "      dtype='object')"
      ]
     },
     "execution_count": 374,
     "metadata": {},
     "output_type": "execute_result"
    }
   ],
   "source": [
    "numerical_features = dataset.select_dtypes(include=['float64','int64'])\n",
    "numerical_features.columns"
   ]
  },
  {
   "cell_type": "code",
   "execution_count": 375,
   "id": "7c6b567b",
   "metadata": {},
   "outputs": [
    {
     "data": {
      "image/png": "[encoded data removed]",
      "text/plain": [
       "<Figure size 640x480 with 1 Axes>"
      ]
     },
     "metadata": {},
     "output_type": "display_data"
    }
   ],
   "source": [
    "import matplotlib.pyplot as plt\n",
    "import seaborn as sns\n",
    "\n",
    "sns.boxplot(data=numerical_features)\n",
    "plt.xticks(rotation=90)\n",
    "plt.show()"
   ]
  },
  {
   "cell_type": "code",
   "execution_count": 376,
   "id": "dac29705",
   "metadata": {},
   "outputs": [
    {
     "data": {
      "image/png": "[encoded data removed]",
      "text/plain": [
       "<Figure size 640x480 with 1 Axes>"
      ]
     },
     "metadata": {},
     "output_type": "display_data"
    }
   ],
   "source": [
    "sns.boxplot(y=numerical_features[\"ApplicantIncome\"],data=numerical_features)\n",
    "plt.xticks(rotation=90)\n",
    "plt.show()"
   ]
  },
  {
   "cell_type": "code",
   "execution_count": 377,
   "id": "23ef0d7b",
   "metadata": {},
   "outputs": [
    {
     "data": {
      "text/plain": [
       "ApplicantIncome      6.539513\n",
       "CoapplicantIncome    7.491531\n",
       "LoanAmount           2.743053\n",
       "Loan_Amount_Term    -2.402112\n",
       "Credit_History      -2.021971\n",
       "dtype: float64"
      ]
     },
     "execution_count": 377,
     "metadata": {},
     "output_type": "execute_result"
    }
   ],
   "source": [
    "skewness = numerical_features.skew()\n",
    "skewness"
   ]
  },
  {
   "cell_type": "code",
   "execution_count": 378,
   "id": "c4ea6b3f",
   "metadata": {},
   "outputs": [
    {
     "data": {
      "image/png": "[encoded data removed]",
      "text/plain": [
       "<Figure size 1000x600 with 5 Axes>"
      ]
     },
     "metadata": {},
     "output_type": "display_data"
    }
   ],
   "source": [
    "plt.figure(figsize=(10,6))\n",
    "for i,column in enumerate(numerical_features.columns,1):\n",
    "    plt.subplot((len(numerical_features.columns)//3)+1,3,i)\n",
    "    sns.histplot(dataset[column].dropna(),bins=20,kde=True)\n",
    "    plt.title(f'{column} {skewness[column]:.2f}',fontsize=10)\n",
    "    plt.xlabel(column,fontsize=8)\n",
    "    plt.ylabel('Frequency',fontsize=8)\n",
    "plt.tight_layout()\n",
    "plt.show()"
   ]
  },
  {
   "cell_type": "code",
   "execution_count": 379,
   "id": "1c230258",
   "metadata": {},
   "outputs": [],
   "source": [
    "import numpy as np"
   ]
  },
  {
   "cell_type": "code",
   "execution_count": 380,
   "id": "9005e150",
   "metadata": {},
   "outputs": [],
   "source": [
    "dataset['ApplicantIncome'] = np.log(dataset['ApplicantIncome'])\n",
    "\n",
    "# doubt can i log already log worked dataset for more normalizing?"
   ]
  },
  {
   "cell_type": "code",
   "execution_count": 381,
   "id": "2ef4c83f",
   "metadata": {},
   "outputs": [
    {
     "data": {
      "image/png": "[encoded data removed]",
      "text/plain": [
       "<Figure size 640x480 with 1 Axes>"
      ]
     },
     "metadata": {},
     "output_type": "display_data"
    },
    {
     "data": {
      "text/plain": [
       "np.float64(0.4795799780016222)"
      ]
     },
     "execution_count": 381,
     "metadata": {},
     "output_type": "execute_result"
    }
   ],
   "source": [
    "sns.histplot(dataset['ApplicantIncome'],bins=20,kde=True)\n",
    "plt.show()\n",
    "skewness_ApplicantIncome = dataset['ApplicantIncome'].skew()\n",
    "skewness_ApplicantIncome"
   ]
  },
  {
   "cell_type": "code",
   "execution_count": 382,
   "id": "9605da85",
   "metadata": {},
   "outputs": [],
   "source": [
    "# dataset['ApplicantIncome_sqrt'] = np.sqrt(dataset['ApplicantIncome'])\n",
    "\n",
    "# sns.histplot(dataset['ApplicantIncome_sqrt'],bins=20,kde=True)\n",
    "# plt.show()\n",
    "# skewness_ApplicantIncome_sqrt = dataset['ApplicantIncome_sqrt'].skew()\n",
    "# skewness_ApplicantIncome_sqrt\n",
    "\n"
   ]
  },
  {
   "cell_type": "code",
   "execution_count": 383,
   "id": "579e132a",
   "metadata": {},
   "outputs": [],
   "source": [
    "# dataset = dataset.drop(['ApplicantIncome_sqrt'], axis=1)"
   ]
  },
  {
   "cell_type": "code",
   "execution_count": 384,
   "id": "41a681e1",
   "metadata": {},
   "outputs": [],
   "source": [
    "# dataset['ApplicantIncome_inv'] = 1 / dataset['ApplicantIncome']\n",
    "\n",
    "# sns.histplot(dataset['ApplicantIncome_inv'],bins=20,kde=True)\n",
    "# plt.show()\n",
    "# skewness_ApplicantIncome_inv = dataset['ApplicantIncome_inv'].skew()\n",
    "# skewness_ApplicantIncome_inv"
   ]
  },
  {
   "cell_type": "code",
   "execution_count": 385,
   "id": "75dc8c6b",
   "metadata": {},
   "outputs": [],
   "source": [
    "# dataset = dataset.drop(['ApplicantIncome_inv'], axis=1)"
   ]
  },
  {
   "cell_type": "code",
   "execution_count": 386,
   "id": "31402359",
   "metadata": {},
   "outputs": [],
   "source": [
    "# dataset['ApplicantIncome_pow_1_1_2'] = dataset['ApplicantIncome'] ** (1/1.2)\n",
    "\n",
    "# sns.histplot(dataset['ApplicantIncome_pow_1_1_2'],bins=20,kde=True)\n",
    "# plt.show()\n",
    "# skewness_ApplicantIncome_pow_1_1_2 = dataset['ApplicantIncome_pow_1_1_2'].skew()\n",
    "# skewness_ApplicantIncome_pow_1_1_2"
   ]
  },
  {
   "cell_type": "code",
   "execution_count": 387,
   "id": "b7a1229c",
   "metadata": {},
   "outputs": [],
   "source": [
    "# dataset = dataset.drop(['ApplicantIncome_pow_1_1_2'], axis=1)"
   ]
  },
  {
   "cell_type": "code",
   "execution_count": 388,
   "id": "90367a16",
   "metadata": {},
   "outputs": [
    {
     "data": {
      "text/plain": [
       "Index(['ApplicantIncome', 'CoapplicantIncome', 'LoanAmount',\n",
       "       'Loan_Amount_Term', 'Credit_History'],\n",
       "      dtype='object')"
      ]
     },
     "execution_count": 388,
     "metadata": {},
     "output_type": "execute_result"
    }
   ],
   "source": [
    "numerical_features.columns"
   ]
  },
  {
   "cell_type": "code",
   "execution_count": 389,
   "id": "3b22264c",
   "metadata": {},
   "outputs": [],
   "source": [
    "# tally"
   ]
  },
  {
   "cell_type": "markdown",
   "id": "9f225c66",
   "metadata": {},
   "source": [
    "**----------------------------- CoapplicantIncome transforms --------------------------------**"
   ]
  },
  {
   "cell_type": "code",
   "execution_count": 390,
   "id": "f6ce5232",
   "metadata": {},
   "outputs": [],
   "source": [
    "# dataset['CoapplicantIncome'] = np.log(dataset['CoapplicantIncome'])"
   ]
  },
  {
   "cell_type": "code",
   "execution_count": 391,
   "id": "ce1c98f3",
   "metadata": {},
   "outputs": [],
   "source": [
    "# sns.histplot(dataset['CoapplicantIncome'],bins=20,kde=True)\n",
    "# plt.show()\n",
    "# skewness_CoapplicantIncome = dataset['CoapplicantIncome'].skew()\n",
    "# skewness_CoapplicantIncome"
   ]
  },
  {
   "cell_type": "code",
   "execution_count": 392,
   "id": "f1f77c84",
   "metadata": {},
   "outputs": [],
   "source": [
    "# df['CoapplicantIncome'] = np.sqrt(df['CoapplicantIncome']) # 0.9\n",
    "# df['CoapplicantIncome'] = 1 / df['CoapplicantIncome'] #nan\n",
    "# df['CoapplicantIncome'] = df['CoapplicantIncome'] ** (1/1.2) # 4.78"
   ]
  },
  {
   "cell_type": "markdown",
   "id": "3afe127e",
   "metadata": {},
   "source": [
    "**----------------------------- CoapplicantIncome not possible to transform --------------------------------**"
   ]
  },
  {
   "cell_type": "code",
   "execution_count": 393,
   "id": "d1b7d432",
   "metadata": {},
   "outputs": [],
   "source": [
    "# tally"
   ]
  },
  {
   "cell_type": "markdown",
   "id": "296531e6",
   "metadata": {},
   "source": [
    "**----------------------------- LoanAmount transforms --------------------------------**"
   ]
  },
  {
   "cell_type": "code",
   "execution_count": 394,
   "id": "31877952",
   "metadata": {},
   "outputs": [],
   "source": [
    "df['LoanAmount'] = np.log(df['LoanAmount'])\n",
    "# df['LoanAmount'] = df['LoanAmount']**1/2\n",
    "# df['LoanAmount']= 1/df['LoanAmount']\n",
    "# df['LoanAmount'] = df['LoanAmount']**(1/1.2)"
   ]
  },
  {
   "cell_type": "code",
   "execution_count": 395,
   "id": "a25a1630",
   "metadata": {},
   "outputs": [
    {
     "data": {
      "image/png": "[encoded data removed]",
      "text/plain": [
       "<Figure size 640x480 with 1 Axes>"
      ]
     },
     "metadata": {},
     "output_type": "display_data"
    },
    {
     "data": {
      "text/plain": [
       "np.float64(-0.19535529039255162)"
      ]
     },
     "execution_count": 395,
     "metadata": {},
     "output_type": "execute_result"
    }
   ],
   "source": [
    "sns.histplot(dataset['LoanAmount'],bins=20,kde=True)\n",
    "plt.show()\n",
    "skewness_LoanAmount = dataset['LoanAmount'].skew()\n",
    "skewness_LoanAmount"
   ]
  },
  {
   "cell_type": "code",
   "execution_count": 396,
   "id": "941fa215",
   "metadata": {},
   "outputs": [],
   "source": [
    "# doubt - if i done log or any transform and i get value near 0 then should i check others too"
   ]
  },
  {
   "cell_type": "markdown",
   "id": "5573e297",
   "metadata": {},
   "source": [
    "**----------------------------- LoanAmount transformed --------------------------------**"
   ]
  },
  {
   "cell_type": "code",
   "execution_count": 397,
   "id": "1e72da04",
   "metadata": {},
   "outputs": [],
   "source": [
    "# tally"
   ]
  },
  {
   "cell_type": "markdown",
   "id": "3c988793",
   "metadata": {},
   "source": [
    "**----------------------------- Loan_Amount_Term transform --------------------------------**"
   ]
  },
  {
   "cell_type": "code",
   "execution_count": 398,
   "id": "06d24dba",
   "metadata": {},
   "outputs": [],
   "source": [
    "# df['Loan_Amount_Term'] = np.log(df['Loan_Amount_Term'])\n",
    "# df['Loan_Amount_Term'] = df['Loan_Amount_Term']**1/2\n",
    "# df['Loan_Amount_Term']= 1/df['Loan_Amount_Term']\n",
    "# df['Loan_Amount_Term'] = df['Loan_Amount_Term']**(1/1.2)"
   ]
  },
  {
   "cell_type": "code",
   "execution_count": 399,
   "id": "3caf6e39",
   "metadata": {},
   "outputs": [],
   "source": [
    "# sns.histplot(dataset['Loan_Amount_Term'],bins=20,kde=True)\n",
    "# plt.show()\n",
    "# skewness_Loan_Amount_Term = dataset['Loan_Amount_Term'].skew()\n",
    "# skewness_Loan_Amount_Term"
   ]
  },
  {
   "cell_type": "markdown",
   "id": "a4b07f54",
   "metadata": {},
   "source": [
    "**----------------------------- Loan_Amount_Term not possible to transform --------------------------------**"
   ]
  },
  {
   "cell_type": "code",
   "execution_count": 400,
   "id": "828d2ec7",
   "metadata": {},
   "outputs": [
    {
     "data": {
      "text/plain": [
       "Index(['ApplicantIncome', 'CoapplicantIncome', 'LoanAmount',\n",
       "       'Loan_Amount_Term', 'Credit_History'],\n",
       "      dtype='object')"
      ]
     },
     "execution_count": 400,
     "metadata": {},
     "output_type": "execute_result"
    }
   ],
   "source": [
    "numerical_features = dataset.select_dtypes(include=['float64','int64'])\n",
    "numerical_features.columns"
   ]
  },
  {
   "cell_type": "code",
   "execution_count": 401,
   "id": "624777f8",
   "metadata": {},
   "outputs": [
    {
     "data": {
      "text/plain": [
       "ApplicantIncome      0.479580\n",
       "CoapplicantIncome    7.491531\n",
       "LoanAmount          -0.195355\n",
       "Loan_Amount_Term    -2.402112\n",
       "Credit_History      -2.021971\n",
       "dtype: float64"
      ]
     },
     "execution_count": 401,
     "metadata": {},
     "output_type": "execute_result"
    }
   ],
   "source": [
    "numerical_features.skew()"
   ]
  },
  {
   "cell_type": "code",
   "execution_count": 402,
   "id": "1a10835d",
   "metadata": {},
   "outputs": [
    {
     "data": {
      "text/plain": [
       "<Axes: ylabel='ApplicantIncome'>"
      ]
     },
     "execution_count": 402,
     "metadata": {},
     "output_type": "execute_result"
    },
    {
     "data": {
      "image/png": "[encoded data removed]",
      "text/plain": [
       "<Figure size 640x480 with 1 Axes>"
      ]
     },
     "metadata": {},
     "output_type": "display_data"
    }
   ],
   "source": [
    "sns.boxplot(dataset['ApplicantIncome'])"
   ]
  },
  {
   "cell_type": "markdown",
   "id": "ba920ba0",
   "metadata": {},
   "source": [
    "**----------------------------- ApplicantIncome outliers --------------------------------**"
   ]
  },
  {
   "cell_type": "code",
   "execution_count": 403,
   "id": "2c47cc1c",
   "metadata": {},
   "outputs": [
    {
     "name": "stdout",
     "output_type": "stream",
     "text": [
      "7.9646767332705695 8.246040412315828 8.664749637817488\n",
      "0.7000729045469187\n",
      "6.914567376450192 9.714858994637867\n",
      "[6.907755278982137, 10.077566902136047, 9.91175329695316, 10.596609732783568, 10.854430887309706, 10.429576102968031, 10.575079070130357, 6.513230110912307, 5.0106352940962555, 9.936293504261306, 9.915070213779195, 11.05622495553552, 9.889895599016661, 11.302204433654575, 10.537919225261291, 9.722684841711443, 5.3471075307174685, 9.721185995542177, 9.816457993563025, 9.756320761816548, 6.4692503167957724, 9.944293546928382, 9.769956159911606, 9.807251944655302, 9.877348894926433, 9.721125994942152, 6.030685260261263]\n"
     ]
    }
   ],
   "source": [
    "q1,q2,q3 = np.percentile(dataset['ApplicantIncome'],[25,50,75])\n",
    "print(q1,q2,q3)\n",
    "IQR = q3-q1\n",
    "print(IQR)\n",
    "lower_limit = q1 - 1.5*IQR\n",
    "upper_limit = q3 + 1.5*IQR\n",
    "print(lower_limit,upper_limit)\n",
    "\n",
    "outlier =[]\n",
    "for i in dataset['ApplicantIncome']:\n",
    "  if i<lower_limit or i>upper_limit:\n",
    "    outlier.append(i)\n",
    "print(outlier)"
   ]
  },
  {
   "cell_type": "code",
   "execution_count": 404,
   "id": "8d495541",
   "metadata": {},
   "outputs": [],
   "source": [
    "# capping or flooring outliers\n",
    "\n",
    "dataset['ApplicantIncome']=np.where(dataset['ApplicantIncome']>upper_limit,upper_limit,dataset['ApplicantIncome'])\n",
    "dataset['ApplicantIncome']=np.where(dataset['ApplicantIncome']<lower_limit,lower_limit,dataset['ApplicantIncome'])"
   ]
  },
  {
   "cell_type": "code",
   "execution_count": 405,
   "id": "e5e7e956",
   "metadata": {},
   "outputs": [
    {
     "data": {
      "text/plain": [
       "<Axes: ylabel='ApplicantIncome'>"
      ]
     },
     "execution_count": 405,
     "metadata": {},
     "output_type": "execute_result"
    },
    {
     "data": {
      "image/png": "[encoded data removed]",
      "text/plain": [
       "<Figure size 640x480 with 1 Axes>"
      ]
     },
     "metadata": {},
     "output_type": "display_data"
    }
   ],
   "source": [
    "sns.boxplot(dataset['ApplicantIncome'])"
   ]
  },
  {
   "cell_type": "markdown",
   "id": "f27e5e52",
   "metadata": {},
   "source": [
    "**----------------------------- ApplicantIncome handled outliers --------------------------------**"
   ]
  },
  {
   "cell_type": "markdown",
   "id": "42cefdfa",
   "metadata": {},
   "source": [
    "**----------------------------- CoapplicantIncome outliers --------------------------------**"
   ]
  },
  {
   "cell_type": "code",
   "execution_count": 406,
   "id": "c3dde54d",
   "metadata": {},
   "outputs": [
    {
     "data": {
      "text/plain": [
       "Index(['ApplicantIncome', 'CoapplicantIncome', 'LoanAmount',\n",
       "       'Loan_Amount_Term', 'Credit_History'],\n",
       "      dtype='object')"
      ]
     },
     "execution_count": 406,
     "metadata": {},
     "output_type": "execute_result"
    }
   ],
   "source": [
    "numerical_features.columns"
   ]
  },
  {
   "cell_type": "code",
   "execution_count": 407,
   "id": "a46463a8",
   "metadata": {},
   "outputs": [
    {
     "name": "stdout",
     "output_type": "stream",
     "text": [
      "0.0 1188.5 2297.25\n",
      "2297.25\n",
      "-3445.875 5743.125\n",
      "[10968.0, 8106.0, 7210.0, 8980.0, 7750.0, 11300.0, 7250.0, 7101.0, 6250.0, 7873.0, 20000.0, 20000.0, 8333.0, 6667.0, 6666.0, 7166.0, 33837.0, 41667.0]\n"
     ]
    }
   ],
   "source": [
    "q1,q2,q3 = np.percentile(dataset['CoapplicantIncome'],[25,50,75])\n",
    "print(q1,q2,q3)\n",
    "IQR = q3-q1\n",
    "print(IQR)\n",
    "lower_limit = q1 - 1.5*IQR\n",
    "upper_limit = q3 + 1.5*IQR\n",
    "print(lower_limit,upper_limit)\n",
    "\n",
    "outlier =[]\n",
    "for i in dataset['CoapplicantIncome']:\n",
    "  if i<lower_limit or i>upper_limit:\n",
    "    outlier.append(i)\n",
    "print(outlier)"
   ]
  },
  {
   "cell_type": "code",
   "execution_count": 408,
   "id": "0c80ac50",
   "metadata": {},
   "outputs": [],
   "source": [
    "dataset['CoapplicantIncome']=np.where(dataset['CoapplicantIncome']>upper_limit,upper_limit,dataset['CoapplicantIncome'])\n",
    "dataset['CoapplicantIncome']=np.where(dataset['CoapplicantIncome']<lower_limit,lower_limit,dataset['CoapplicantIncome'])"
   ]
  },
  {
   "cell_type": "code",
   "execution_count": 409,
   "id": "6ab1be6b",
   "metadata": {},
   "outputs": [
    {
     "data": {
      "text/plain": [
       "<Axes: ylabel='CoapplicantIncome'>"
      ]
     },
     "execution_count": 409,
     "metadata": {},
     "output_type": "execute_result"
    },
    {
     "data": {
      "image/png": "[encoded data removed]",
      "text/plain": [
       "<Figure size 640x480 with 1 Axes>"
      ]
     },
     "metadata": {},
     "output_type": "display_data"
    }
   ],
   "source": [
    "sns.boxplot(dataset['CoapplicantIncome'])"
   ]
  },
  {
   "cell_type": "markdown",
   "id": "027c0eaf",
   "metadata": {},
   "source": [
    "**----------------------------- CoapplicantIncome handled outliers --------------------------------**"
   ]
  },
  {
   "cell_type": "code",
   "execution_count": 410,
   "id": "00d142ac",
   "metadata": {},
   "outputs": [
    {
     "data": {
      "text/plain": [
       "Index(['ApplicantIncome', 'CoapplicantIncome', 'LoanAmount',\n",
       "       'Loan_Amount_Term', 'Credit_History'],\n",
       "      dtype='object')"
      ]
     },
     "execution_count": 410,
     "metadata": {},
     "output_type": "execute_result"
    }
   ],
   "source": [
    "numerical_features.columns"
   ]
  },
  {
   "cell_type": "markdown",
   "id": "1919aeee",
   "metadata": {},
   "source": [
    "**----------------------------- LoanAmount outliers --------------------------------**"
   ]
  },
  {
   "cell_type": "code",
   "execution_count": 411,
   "id": "606a30c9",
   "metadata": {},
   "outputs": [
    {
     "name": "stdout",
     "output_type": "stream",
     "text": [
      "4.607657768701384 4.852030263919617 5.1044257123814845\n",
      "0.49676794368010047\n",
      "3.8625058531812333 5.849577627901635\n",
      "[5.855071922202427, 2.833213344056216, 3.5553480614894135, 3.8501476017100584, 3.784189633918261, 3.2188758248682006, 3.784189633918261, 5.91350300563827, 6.476972362889683, 3.2188758248682006, 3.4011973816621555, 6.396929655216146, 6.551080335043404, 6.20455776256869, 3.7376696182833684, 3.4011973816621555, 6.077642243349034, 6.173786103901937, 5.929589143389895, 6.194405391104672, 3.828641396489095, 6.345636360828596, 5.940171252720432, 3.8066624897703196, 5.886104031450156, 6.003887067106539, 6.214608098422191, 6.173786103901937, 3.6888794541139363, 3.8066624897703196, 6.173786103901937, 5.991464547107982, 3.258096538021482, 6.396929655216146, 2.1972245773362196, 3.58351893845611, 5.857933154483459, 6.206575926724928, 3.6888794541139363]\n"
     ]
    }
   ],
   "source": [
    "q1,q2,q3 = np.percentile(dataset['LoanAmount'],[25,50,75])\n",
    "print(q1,q2,q3)\n",
    "IQR = q3-q1\n",
    "print(IQR)\n",
    "lower_limit = q1 - 1.5*IQR\n",
    "upper_limit = q3 + 1.5*IQR\n",
    "print(lower_limit,upper_limit)\n",
    "\n",
    "outlier =[]\n",
    "for i in dataset['LoanAmount']:\n",
    "  if i<lower_limit or i>upper_limit:\n",
    "    outlier.append(i)\n",
    "print(outlier)"
   ]
  },
  {
   "cell_type": "code",
   "execution_count": 412,
   "id": "7191f969",
   "metadata": {},
   "outputs": [
    {
     "data": {
      "text/plain": [
       "<Axes: ylabel='LoanAmount'>"
      ]
     },
     "execution_count": 412,
     "metadata": {},
     "output_type": "execute_result"
    },
    {
     "data": {
      "image/png": "[encoded data removed]",
      "text/plain": [
       "<Figure size 640x480 with 1 Axes>"
      ]
     },
     "metadata": {},
     "output_type": "display_data"
    }
   ],
   "source": [
    "dataset['LoanAmount']=np.where(dataset['LoanAmount']>upper_limit,upper_limit,dataset['LoanAmount'])\n",
    "dataset['LoanAmount']=np.where(dataset['LoanAmount']<lower_limit,lower_limit,dataset['LoanAmount'])\n",
    "sns.boxplot(dataset['LoanAmount'])"
   ]
  },
  {
   "cell_type": "markdown",
   "id": "2927a9fa",
   "metadata": {},
   "source": [
    "**----------------------------- LoanAmount handled outliers --------------------------------**"
   ]
  },
  {
   "cell_type": "markdown",
   "id": "49fe1303",
   "metadata": {},
   "source": [
    "**----------------------------- Loan_Amount_Term outliers --------------------------------**"
   ]
  },
  {
   "cell_type": "code",
   "execution_count": 413,
   "id": "b9a9a4f6",
   "metadata": {},
   "outputs": [
    {
     "name": "stdout",
     "output_type": "stream",
     "text": [
      "360.0 360.0 360.0\n",
      "0.0\n",
      "360.0 360.0\n",
      "[120.0, 240.0, 180.0, 180.0, 60.0, 300.0, 480.0, 300.0, 240.0, 180.0, 120.0, 180.0, 180.0, 480.0, 180.0, 180.0, 480.0, 120.0, 180.0, 180.0, 180.0, 180.0, 480.0, 300.0, 180.0, 480.0, 180.0, 300.0, 180.0, 180.0, 480.0, 180.0, 180.0, 60.0, 180.0, 180.0, 480.0, 180.0, 36.0, 180.0, 300.0, 480.0, 480.0, 84.0, 180.0, 180.0, 180.0, 180.0, 480.0, 300.0, 480.0, 300.0, 180.0, 180.0, 480.0, 180.0, 180.0, 180.0, 300.0, 300.0, 180.0, 240.0, 300.0, 300.0, 180.0, 180.0, 180.0, 180.0, 300.0, 84.0, 12.0, 480.0, 300.0, 180.0, 480.0, 180.0, 180.0, 36.0, 180.0, 480.0, 84.0, 84.0, 180.0, 240.0, 180.0, 180.0, 180.0, 180.0]\n",
      "[12.0]\n"
     ]
    }
   ],
   "source": [
    "q1,q2,q3 = np.percentile(dataset['Loan_Amount_Term'],[25,50,75])\n",
    "print(q1,q2,q3)\n",
    "IQR = q3-q1\n",
    "print(IQR)\n",
    "lower_limit = q1 - 1.5*IQR\n",
    "upper_limit = q3 + 1.5*IQR\n",
    "print(lower_limit,upper_limit)\n",
    "\n",
    "outlier =[]\n",
    "for i in dataset['Loan_Amount_Term']:\n",
    "  if i<lower_limit or i>upper_limit:\n",
    "    outlier.append(i)\n",
    "print(outlier)\n",
    "\n",
    "# Use domain knowledge for outlier detection (< 36 or > 480 months)\n",
    "lower_threshold = 36\n",
    "upper_threshold = 480\n",
    "outlier = []\n",
    "for i in dataset['Loan_Amount_Term']:\n",
    "    if (i < lower_threshold or i > upper_threshold):\n",
    "        outlier.append(i)\n",
    "print(outlier)\n"
   ]
  },
  {
   "cell_type": "code",
   "execution_count": 414,
   "id": "a98c8fd3",
   "metadata": {},
   "outputs": [
    {
     "data": {
      "text/plain": [
       "<Axes: ylabel='Loan_Amount_Term'>"
      ]
     },
     "execution_count": 414,
     "metadata": {},
     "output_type": "execute_result"
    },
    {
     "data": {
      "image/png": "[encoded data removed]",
      "text/plain": [
       "<Figure size 640x480 with 1 Axes>"
      ]
     },
     "metadata": {},
     "output_type": "display_data"
    }
   ],
   "source": [
    "dataset['Loan_Amount_Term']=np.where(dataset['Loan_Amount_Term']>upper_threshold,upper_threshold,dataset['Loan_Amount_Term'])\n",
    "dataset['Loan_Amount_Term']=np.where(dataset['Loan_Amount_Term']<lower_threshold,lower_threshold,dataset['Loan_Amount_Term'])\n",
    "sns.boxplot(dataset['Loan_Amount_Term'])\n"
   ]
  },
  {
   "cell_type": "markdown",
   "id": "dc306ac4",
   "metadata": {},
   "source": [
    "**----------------------------- Loan_Amount_Term handled outliers --------------------------------**"
   ]
  },
  {
   "cell_type": "markdown",
   "id": "f9263874",
   "metadata": {},
   "source": [
    "**----------------------------- Credit_History outliers --------------------------------**"
   ]
  },
  {
   "cell_type": "code",
   "execution_count": 415,
   "id": "438d3f7c",
   "metadata": {},
   "outputs": [],
   "source": [
    "# q1,q2,q3 = np.percentile(dataset['Credit_History'],[25,50,75])\n",
    "# print(q1,q2,q3)\n",
    "# IQR = q3-q1\n",
    "# print(IQR)\n",
    "# lower_limit = q1 - 1.5*IQR\n",
    "# upper_limit = q3 + 1.5*IQR\n",
    "# print(lower_limit,upper_limit)\n",
    "\n",
    "# outlier =[]\n",
    "# for i in dataset['Credit_History']:\n",
    "#   if i<lower_limit or i>upper_limit:\n",
    "#     outlier.append(i)\n",
    "# print(outlier)"
   ]
  },
  {
   "cell_type": "code",
   "execution_count": 416,
   "id": "22dfd44a",
   "metadata": {},
   "outputs": [
    {
     "data": {
      "text/plain": [
       "<Axes: ylabel='Credit_History'>"
      ]
     },
     "execution_count": 416,
     "metadata": {},
     "output_type": "execute_result"
    },
    {
     "data": {
      "image/png": "[encoded data removed]",
      "text/plain": [
       "<Figure size 640x480 with 1 Axes>"
      ]
     },
     "metadata": {},
     "output_type": "display_data"
    }
   ],
   "source": [
    "# dataset['Credit_History']=np.where(dataset['Credit_History']>upper_limit,upper_limit,dataset['Credit_History'])\n",
    "# dataset['Credit_History']=np.where(dataset['Credit_History']<lower_limit,lower_limit,dataset['Credit_History'])\n",
    "sns.boxplot(dataset['Credit_History']) # only 0 and 1"
   ]
  },
  {
   "cell_type": "markdown",
   "id": "8f80d792",
   "metadata": {},
   "source": [
    "**----------------------------- Credit_History isnt handled outliers --------------------------------**"
   ]
  },
  {
   "cell_type": "code",
   "execution_count": 417,
   "id": "7683ccaa",
   "metadata": {},
   "outputs": [
    {
     "data": {
      "text/plain": [
       "ApplicantIncome      0.479580\n",
       "CoapplicantIncome    7.491531\n",
       "LoanAmount          -0.195355\n",
       "Loan_Amount_Term    -2.402112\n",
       "Credit_History      -2.021971\n",
       "dtype: float64"
      ]
     },
     "execution_count": 417,
     "metadata": {},
     "output_type": "execute_result"
    }
   ],
   "source": [
    "numerical_features.skew()"
   ]
  },
  {
   "cell_type": "markdown",
   "id": "e555f01e",
   "metadata": {},
   "source": [
    "**----------------------------- Feature Creation --------------------------------**"
   ]
  },
  {
   "cell_type": "code",
   "execution_count": 418,
   "id": "664a7120",
   "metadata": {},
   "outputs": [],
   "source": [
    "# TotalIncome = ApplicantIncome + CoapplicantIncome\n",
    "dataset['TotalIncome'] = dataset['ApplicantIncome'] + dataset['CoapplicantIncome']"
   ]
  },
  {
   "cell_type": "code",
   "execution_count": 419,
   "id": "5c8895b3",
   "metadata": {},
   "outputs": [],
   "source": [
    "# Income_to_Loan_Ratio = TotalIncome / LoanAmount\n",
    "dataset['Income_to_Loan_Ratio']=dataset['TotalIncome'] / dataset['LoanAmount']"
   ]
  },
  {
   "cell_type": "code",
   "execution_count": 420,
   "id": "ce96a38b",
   "metadata": {},
   "outputs": [],
   "source": [
    "# EMI (Equated Monthly Installment) = LoanAmount / Loan_Amount_Term\n",
    "\n",
    "dataset['EMI'] = dataset['LoanAmount'] / dataset['Loan_Amount_Term']"
   ]
  },
  {
   "cell_type": "markdown",
   "id": "c31e3b7d",
   "metadata": {},
   "source": [
    "**----------------------------- Feature Creation Done--------------------------------**"
   ]
  },
  {
   "cell_type": "markdown",
   "id": "1a94a77e",
   "metadata": {},
   "source": [
    "**----------------------------- Feature Selection --------------------------------**"
   ]
  },
  {
   "cell_type": "code",
   "execution_count": 421,
   "id": "8d67da30",
   "metadata": {},
   "outputs": [
    {
     "data": {
      "text/plain": [
       "Index(['Loan_ID', 'Gender', 'Married', 'Dependents', 'Education',\n",
       "       'Self_Employed', 'ApplicantIncome', 'CoapplicantIncome', 'LoanAmount',\n",
       "       'Loan_Amount_Term', 'Credit_History', 'Property_Area', 'Loan_Status',\n",
       "       'TotalIncome', 'Income_to_Loan_Ratio', 'EMI'],\n",
       "      dtype='object')"
      ]
     },
     "execution_count": 421,
     "metadata": {},
     "output_type": "execute_result"
    }
   ],
   "source": [
    "dataset.columns"
   ]
  },
  {
   "cell_type": "code",
   "execution_count": 422,
   "id": "8111deeb",
   "metadata": {},
   "outputs": [],
   "source": [
    "# ['Loan_ID', 'ApplicantIncome', 'CoapplicantIncome', 'LoanAmount', 'Loan_Amount_Term'] - drop these\n",
    "\n",
    "dataset = dataset.drop(['Loan_ID', 'ApplicantIncome', 'CoapplicantIncome', 'LoanAmount', 'Loan_Amount_Term'], axis=1)"
   ]
  },
  {
   "cell_type": "code",
   "execution_count": 423,
   "id": "9feae1da",
   "metadata": {},
   "outputs": [
    {
     "data": {
      "text/plain": [
       "Index(['Gender', 'Married', 'Dependents', 'Education', 'Self_Employed',\n",
       "       'Credit_History', 'Property_Area', 'Loan_Status', 'TotalIncome',\n",
       "       'Income_to_Loan_Ratio', 'EMI'],\n",
       "      dtype='object')"
      ]
     },
     "execution_count": 423,
     "metadata": {},
     "output_type": "execute_result"
    }
   ],
   "source": [
    "dataset.columns"
   ]
  },
  {
   "cell_type": "markdown",
   "id": "c4a14e1b",
   "metadata": {},
   "source": [
    "**----------------------------- Feature Selection Done--------------------------------**"
   ]
  },
  {
   "cell_type": "markdown",
   "id": "9d38684d",
   "metadata": {},
   "source": [
    "**----------------------------- Encoding --------------------------------**"
   ]
  },
  {
   "cell_type": "code",
   "execution_count": 424,
   "id": "3609b029",
   "metadata": {},
   "outputs": [],
   "source": [
    "from sklearn.preprocessing import LabelEncoder, OrdinalEncoder\n",
    "\n",
    "# Label Encode: Gender, Married, Education, Self_Employed\n",
    "label_cols = ['Gender', 'Married', 'Education', 'Self_Employed']\n",
    "le = LabelEncoder()\n",
    "for col in label_cols:\n",
    "    dataset[col] = le.fit_transform(dataset[col])\n",
    "\n",
    "# Ordinal Encode: Dependents (0,1,2,3+)\n",
    "dependents_map = {'0': 0, '1': 1, '2': 2, '3+': 3}\n",
    "dataset['Dependents'] = dataset['Dependents'].map(dependents_map)\n",
    "\n",
    "# One-Hot Encode: Property_Area\n",
    "dataset = pd.get_dummies(dataset, columns=['Property_Area'], drop_first=True)"
   ]
  },
  {
   "cell_type": "code",
   "execution_count": 425,
   "id": "451946aa",
   "metadata": {},
   "outputs": [
    {
     "data": {
      "text/plain": [
       "Index(['Gender', 'Married', 'Dependents', 'Education', 'Self_Employed',\n",
       "       'Credit_History', 'Loan_Status', 'TotalIncome', 'Income_to_Loan_Ratio',\n",
       "       'EMI', 'Property_Area_Semiurban', 'Property_Area_Urban'],\n",
       "      dtype='object')"
      ]
     },
     "execution_count": 425,
     "metadata": {},
     "output_type": "execute_result"
    }
   ],
   "source": [
    "dataset.columns"
   ]
  },
  {
   "cell_type": "code",
   "execution_count": 426,
   "id": "c7345eed",
   "metadata": {},
   "outputs": [
    {
     "data": {
      "text/plain": [
       "array(['Y', 'N'], dtype=object)"
      ]
     },
     "execution_count": 426,
     "metadata": {},
     "output_type": "execute_result"
    }
   ],
   "source": [
    "dataset['Loan_Status'].unique()"
   ]
  },
  {
   "cell_type": "code",
   "execution_count": 427,
   "id": "5fea27ee",
   "metadata": {},
   "outputs": [
    {
     "name": "stdout",
     "output_type": "stream",
     "text": [
      "[1 0] int64\n"
     ]
    }
   ],
   "source": [
    "\n",
    "# Clean Loan_Status to numeric 0/1\n",
    "dataset['Loan_Status'] = dataset['Loan_Status'].str.strip().map({'Y': 1, 'N': 0}).astype('int64')\n",
    "\n",
    "print(dataset['Loan_Status'].unique(), dataset['Loan_Status'].dtype)\n"
   ]
  },
  {
   "cell_type": "code",
   "execution_count": 428,
   "id": "da48f39c",
   "metadata": {},
   "outputs": [
    {
     "name": "stdout",
     "output_type": "stream",
     "text": [
      "<class 'pandas.core.frame.DataFrame'>\n",
      "RangeIndex: 614 entries, 0 to 613\n",
      "Data columns (total 12 columns):\n",
      " #   Column                   Non-Null Count  Dtype  \n",
      "---  ------                   --------------  -----  \n",
      " 0   Gender                   614 non-null    int64  \n",
      " 1   Married                  614 non-null    int64  \n",
      " 2   Dependents               614 non-null    int64  \n",
      " 3   Education                614 non-null    int64  \n",
      " 4   Self_Employed            614 non-null    int64  \n",
      " 5   Credit_History           614 non-null    float64\n",
      " 6   Loan_Status              614 non-null    int64  \n",
      " 7   TotalIncome              614 non-null    float64\n",
      " 8   Income_to_Loan_Ratio     614 non-null    float64\n",
      " 9   EMI                      614 non-null    float64\n",
      " 10  Property_Area_Semiurban  614 non-null    bool   \n",
      " 11  Property_Area_Urban      614 non-null    bool   \n",
      "dtypes: bool(2), float64(4), int64(6)\n",
      "memory usage: 49.3 KB\n"
     ]
    }
   ],
   "source": [
    "dataset.info()"
   ]
  },
  {
   "cell_type": "markdown",
   "id": "efc4d3f4",
   "metadata": {},
   "source": [
    "**----------------------------- Encoding Complete --------------------------------**"
   ]
  },
  {
   "cell_type": "code",
   "execution_count": 429,
   "id": "ee25f8ec",
   "metadata": {},
   "outputs": [
    {
     "data": {
      "text/plain": [
       "<Axes: >"
      ]
     },
     "execution_count": 429,
     "metadata": {},
     "output_type": "execute_result"
    },
    {
     "data": {
      "image/png": "[encoded data removed]",
      "text/plain": [
       "<Figure size 2000x800 with 2 Axes>"
      ]
     },
     "metadata": {},
     "output_type": "display_data"
    }
   ],
   "source": [
    "corrmatrix=dataset.corr()\n",
    "#corrmatrix\n",
    "plt.subplots(figsize=(20,8))\n",
    "sns.heatmap(corrmatrix, vmin=-1, vmax=1, annot=True, linewidth=.2, cmap='coolwarm')"
   ]
  },
  {
   "cell_type": "code",
   "execution_count": 430,
   "id": "987f1fae",
   "metadata": {},
   "outputs": [],
   "source": [
    "# drop totalincome\n",
    "\n",
    "dataset = dataset.drop(['TotalIncome'], axis=1)"
   ]
  },
  {
   "cell_type": "markdown",
   "id": "cffad552",
   "metadata": {},
   "source": [
    "**----------------------------- Scaling --------------------------------**"
   ]
  },
  {
   "cell_type": "code",
   "execution_count": 431,
   "id": "c4cc8c09",
   "metadata": {},
   "outputs": [],
   "source": [
    "#splitting data into dependent and independent columns\n",
    "x=dataset.drop('Loan_Status',axis=1)\n",
    "y=dataset['Loan_Status']"
   ]
  },
  {
   "cell_type": "code",
   "execution_count": 432,
   "id": "b719e2cd",
   "metadata": {},
   "outputs": [],
   "source": [
    "from sklearn.preprocessing import MinMaxScaler,StandardScaler"
   ]
  },
  {
   "cell_type": "code",
   "execution_count": 433,
   "id": "46f84df7",
   "metadata": {},
   "outputs": [
    {
     "data": {
      "text/html": [
       "<div>\n",
       "<style scoped>\n",
       "    .dataframe tbody tr th:only-of-type {\n",
       "        vertical-align: middle;\n",
       "    }\n",
       "\n",
       "    .dataframe tbody tr th {\n",
       "        vertical-align: top;\n",
       "    }\n",
       "\n",
       "    .dataframe thead th {\n",
       "        text-align: right;\n",
       "    }\n",
       "</style>\n",
       "<table border=\"1\" class=\"dataframe\">\n",
       "  <thead>\n",
       "    <tr style=\"text-align: right;\">\n",
       "      <th></th>\n",
       "      <th>0</th>\n",
       "      <th>1</th>\n",
       "      <th>2</th>\n",
       "      <th>3</th>\n",
       "      <th>4</th>\n",
       "      <th>5</th>\n",
       "      <th>6</th>\n",
       "      <th>7</th>\n",
       "      <th>8</th>\n",
       "      <th>9</th>\n",
       "    </tr>\n",
       "  </thead>\n",
       "  <tbody>\n",
       "    <tr>\n",
       "      <th>count</th>\n",
       "      <td>614.000000</td>\n",
       "      <td>614.000000</td>\n",
       "      <td>614.000000</td>\n",
       "      <td>614.000000</td>\n",
       "      <td>614.000000</td>\n",
       "      <td>614.000000</td>\n",
       "      <td>614.000000</td>\n",
       "      <td>614.000000</td>\n",
       "      <td>614.000000</td>\n",
       "      <td>614.000000</td>\n",
       "    </tr>\n",
       "    <tr>\n",
       "      <th>mean</th>\n",
       "      <td>0.817590</td>\n",
       "      <td>0.653094</td>\n",
       "      <td>0.248100</td>\n",
       "      <td>0.218241</td>\n",
       "      <td>0.133550</td>\n",
       "      <td>0.855049</td>\n",
       "      <td>0.211736</td>\n",
       "      <td>0.053488</td>\n",
       "      <td>0.379479</td>\n",
       "      <td>0.328990</td>\n",
       "    </tr>\n",
       "    <tr>\n",
       "      <th>std</th>\n",
       "      <td>0.386497</td>\n",
       "      <td>0.476373</td>\n",
       "      <td>0.336541</td>\n",
       "      <td>0.413389</td>\n",
       "      <td>0.340446</td>\n",
       "      <td>0.352339</td>\n",
       "      <td>0.236088</td>\n",
       "      <td>0.079086</td>\n",
       "      <td>0.485653</td>\n",
       "      <td>0.470229</td>\n",
       "    </tr>\n",
       "    <tr>\n",
       "      <th>min</th>\n",
       "      <td>0.000000</td>\n",
       "      <td>0.000000</td>\n",
       "      <td>0.000000</td>\n",
       "      <td>0.000000</td>\n",
       "      <td>0.000000</td>\n",
       "      <td>0.000000</td>\n",
       "      <td>0.000000</td>\n",
       "      <td>0.000000</td>\n",
       "      <td>0.000000</td>\n",
       "      <td>0.000000</td>\n",
       "    </tr>\n",
       "    <tr>\n",
       "      <th>25%</th>\n",
       "      <td>1.000000</td>\n",
       "      <td>0.000000</td>\n",
       "      <td>0.000000</td>\n",
       "      <td>0.000000</td>\n",
       "      <td>0.000000</td>\n",
       "      <td>1.000000</td>\n",
       "      <td>0.000250</td>\n",
       "      <td>0.032679</td>\n",
       "      <td>0.000000</td>\n",
       "      <td>0.000000</td>\n",
       "    </tr>\n",
       "    <tr>\n",
       "      <th>50%</th>\n",
       "      <td>1.000000</td>\n",
       "      <td>1.000000</td>\n",
       "      <td>0.000000</td>\n",
       "      <td>0.000000</td>\n",
       "      <td>0.000000</td>\n",
       "      <td>1.000000</td>\n",
       "      <td>0.188855</td>\n",
       "      <td>0.037515</td>\n",
       "      <td>0.000000</td>\n",
       "      <td>0.000000</td>\n",
       "    </tr>\n",
       "    <tr>\n",
       "      <th>75%</th>\n",
       "      <td>1.000000</td>\n",
       "      <td>1.000000</td>\n",
       "      <td>0.333333</td>\n",
       "      <td>0.000000</td>\n",
       "      <td>0.000000</td>\n",
       "      <td>1.000000</td>\n",
       "      <td>0.350160</td>\n",
       "      <td>0.044959</td>\n",
       "      <td>1.000000</td>\n",
       "      <td>1.000000</td>\n",
       "    </tr>\n",
       "    <tr>\n",
       "      <th>max</th>\n",
       "      <td>1.000000</td>\n",
       "      <td>1.000000</td>\n",
       "      <td>1.000000</td>\n",
       "      <td>1.000000</td>\n",
       "      <td>1.000000</td>\n",
       "      <td>1.000000</td>\n",
       "      <td>1.000000</td>\n",
       "      <td>1.000000</td>\n",
       "      <td>1.000000</td>\n",
       "      <td>1.000000</td>\n",
       "    </tr>\n",
       "  </tbody>\n",
       "</table>\n",
       "</div>"
      ],
      "text/plain": [
       "                0           1           2           3           4           5  \\\n",
       "count  614.000000  614.000000  614.000000  614.000000  614.000000  614.000000   \n",
       "mean     0.817590    0.653094    0.248100    0.218241    0.133550    0.855049   \n",
       "std      0.386497    0.476373    0.336541    0.413389    0.340446    0.352339   \n",
       "min      0.000000    0.000000    0.000000    0.000000    0.000000    0.000000   \n",
       "25%      1.000000    0.000000    0.000000    0.000000    0.000000    1.000000   \n",
       "50%      1.000000    1.000000    0.000000    0.000000    0.000000    1.000000   \n",
       "75%      1.000000    1.000000    0.333333    0.000000    0.000000    1.000000   \n",
       "max      1.000000    1.000000    1.000000    1.000000    1.000000    1.000000   \n",
       "\n",
       "                6           7           8           9  \n",
       "count  614.000000  614.000000  614.000000  614.000000  \n",
       "mean     0.211736    0.053488    0.379479    0.328990  \n",
       "std      0.236088    0.079086    0.485653    0.470229  \n",
       "min      0.000000    0.000000    0.000000    0.000000  \n",
       "25%      0.000250    0.032679    0.000000    0.000000  \n",
       "50%      0.188855    0.037515    0.000000    0.000000  \n",
       "75%      0.350160    0.044959    1.000000    1.000000  \n",
       "max      1.000000    1.000000    1.000000    1.000000  "
      ]
     },
     "execution_count": 433,
     "metadata": {},
     "output_type": "execute_result"
    }
   ],
   "source": [
    "\n",
    "#standard scaling\n",
    "# from sklearn import preprocessing\n",
    "# standadisation=StandardScaler()\n",
    "# x=standadisation.fit_transform(x)\n",
    "# # Coverting to Dataframe\n",
    "# x=pd.DataFrame(x)\n",
    "# x.describe()\n",
    "\n",
    "\n",
    "\n",
    "from sklearn import preprocessing\n",
    "normalisation = MinMaxScaler()\n",
    "x=normalisation.fit_transform(x)\n",
    "# Coverting to Dataframe\n",
    "x=pd.DataFrame(x)\n",
    "x.describe()"
   ]
  },
  {
   "cell_type": "code",
   "execution_count": 434,
   "id": "7c0d633c",
   "metadata": {},
   "outputs": [
    {
     "data": {
      "text/plain": [
       "Index(['Gender', 'Married', 'Dependents', 'Education', 'Self_Employed',\n",
       "       'Credit_History', 'Loan_Status', 'Income_to_Loan_Ratio', 'EMI',\n",
       "       'Property_Area_Semiurban', 'Property_Area_Urban'],\n",
       "      dtype='object')"
      ]
     },
     "execution_count": 434,
     "metadata": {},
     "output_type": "execute_result"
    }
   ],
   "source": [
    "dataset.columns"
   ]
  },
  {
   "cell_type": "markdown",
   "id": "ef0c69f2",
   "metadata": {},
   "source": [
    "**----------------------------- Scaling Done --------------------------------**"
   ]
  },
  {
   "cell_type": "code",
   "execution_count": 435,
   "id": "5f9ff536",
   "metadata": {},
   "outputs": [],
   "source": [
    "dataset.to_csv('processed_dataset.csv', index=False)"
   ]
  }
 ],
 "metadata": {
  "kernelspec": {
   "display_name": "general_env",
   "language": "python",
   "name": "python3"
  },
  "language_info": {
   "codemirror_mode": {
    "name": "ipython",
    "version": 3
   },
   "file_extension": ".py",
   "mimetype": "text/x-python",
   "name": "python",
   "nbconvert_exporter": "python",
   "pygments_lexer": "ipython3",
   "version": "3.12.10"
  }
 },
 "nbformat": 4,
 "nbformat_minor": 5
}
